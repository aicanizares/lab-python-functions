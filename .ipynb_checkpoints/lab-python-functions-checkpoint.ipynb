{
 "cells": [
  {
   "cell_type": "markdown",
   "id": "25d7736c-ba17-4aff-b6bb-66eba20fbf4e",
   "metadata": {},
   "source": [
    "# Lab | Functions"
   ]
  },
  {
   "cell_type": "markdown",
   "id": "0c581062-8967-4d93-b06e-62833222f930",
   "metadata": {
    "tags": []
   },
   "source": [
    "## Exercise: Managing Customer Orders with Functions\n",
    "\n",
    "In the previous exercise, you improved the code for managing customer orders by using loops and flow control. Now, let's take it a step further and refactor the code by introducing functions.\n",
    "\n",
    "Follow the steps below to complete the exercise:\n",
    "\n",
    "1. Define a function named `initialize_inventory` that takes `products` as a parameter. Inside the function, implement the code for initializing the inventory dictionary using a loop and user input.\n",
    "\n",
    "2. Define a function named `get_customer_orders` that takes no parameters. Inside the function, implement the code for prompting the user to enter the product names using a loop. The function should return the `customer_orders` set.\n",
    "\n",
    "3. Define a function named `update_inventory` that takes `customer_orders` and `inventory` as parameters. Inside the function, implement the code for updating the inventory dictionary based on the customer orders.\n",
    "\n",
    "4. Define a function named `calculate_order_statistics` that takes `customer_orders` and `products` as parameters. Inside the function, implement the code for calculating the order statistics (total products ordered, and percentage of unique products ordered). The function should return these values.\n",
    "\n",
    "5. Define a function named `print_order_statistics` that takes `order_statistics` as a parameter. Inside the function, implement the code for printing the order statistics.\n",
    "\n",
    "6. Define a function named `print_updated_inventory` that takes `inventory` as a parameter. Inside the function, implement the code for printing the updated inventory.\n",
    "\n",
    "7. Call the functions in the appropriate sequence to execute the program and manage customer orders.\n",
    "\n",
    "Hints for functions:\n",
    "\n",
    "- Consider the input parameters required for each function and their return values.\n",
    "- Utilize function parameters and return values to transfer data between functions.\n",
    "- Test your functions individually to ensure they work correctly.\n",
    "\n",
    "\n"
   ]
  },
  {
   "cell_type": "code",
   "execution_count": 15,
   "id": "a6561019-642d-430e-b838-48485a4bd3f8",
   "metadata": {},
   "outputs": [],
   "source": [
    "# 1. Define a function named initialize_inventory that takes products as a parameter. Inside the function, implement the code for initializing the inventory dictionary using a loop and user input.\n",
    "def initialize_inventory(products):\n",
    "    inventory = {}\n",
    "    \n",
    "    for product in products:\n",
    "        quantity = int(input(f\"Enter the quantity for {product}: \"))\n",
    "        inventory[product] = quantity\n",
    "    \n",
    "    return inventory"
   ]
  },
  {
   "cell_type": "code",
   "execution_count": 17,
   "id": "a9c3ebd4-9254-48b4-8638-2a1c7b2a6d4d",
   "metadata": {},
   "outputs": [
    {
     "name": "stdin",
     "output_type": "stream",
     "text": [
      "Enter the quantity for apples:  3\n",
      "Enter the quantity for oranges:  5\n",
      "Enter the quantity for bananas:  7\n"
     ]
    },
    {
     "name": "stdout",
     "output_type": "stream",
     "text": [
      "Final Inventory: {'apples': 3, 'oranges': 5, 'bananas': 7}\n"
     ]
    }
   ],
   "source": [
    "product_list = [\"apples\", \"oranges\", \"bananas\"]\n",
    "inventory = initialize_inventory(product_list)\n",
    "\n",
    "print(\"Final Inventory:\", inventory)"
   ]
  },
  {
   "cell_type": "code",
   "execution_count": 19,
   "id": "675cd596-5bfa-4c60-b333-efeffba418c6",
   "metadata": {},
   "outputs": [],
   "source": [
    "# 2. Define a function named get_customer_orders that takes no parameters. Inside the function, implement the code for prompting the user to enter the product names using a loop. The function should return the customer_orders set.\n",
    "\n",
    "def get_customer_orders():\n",
    "    customer_orders = set()\n",
    "\n",
    "    while True:\n",
    "        product = input(\"Enter a product name to add to customer_orders or type no.\")\n",
    "        if product == \"no\":\n",
    "            break\n",
    "        customer_orders.add(product)\n",
    "\n",
    "    return customer_orders"
   ]
  },
  {
   "cell_type": "code",
   "execution_count": 21,
   "id": "723a2058-a340-491f-a32a-f71a2bd03cea",
   "metadata": {},
   "outputs": [
    {
     "name": "stdin",
     "output_type": "stream",
     "text": [
      "Enter a product name to add to customer_orders or type no. laptop\n",
      "Enter a product name to add to customer_orders or type no. keyboard\n",
      "Enter a product name to add to customer_orders or type no. charger\n",
      "Enter a product name to add to customer_orders or type no. mouse\n",
      "Enter a product name to add to customer_orders or type no. no\n"
     ]
    },
    {
     "name": "stdout",
     "output_type": "stream",
     "text": [
      "Your order contains: {'mouse', 'keyboard', 'charger', 'laptop'}\n"
     ]
    }
   ],
   "source": [
    "orders = get_customer_orders()\n",
    "print(\"Your order contains:\", orders)"
   ]
  },
  {
   "cell_type": "code",
   "execution_count": 25,
   "id": "7eb57220-c3cc-4ee1-bba6-43815d30af38",
   "metadata": {},
   "outputs": [],
   "source": [
    "# 3. Define a function named update_inventory that takes customer_orders and inventory as parameters. Inside the function, implement the code for updating the inventory dictionary based on the customer orders.\n",
    "\n",
    "def update_inventory(customer_orders, inventory):\n",
    "\n",
    "    for product in customer_orders:\n",
    "        quantity = int(input(f\"Enter the quantity for {product}: \"))\n",
    "        inventory[product] = quantity\n",
    "            \n",
    "    return inventory"
   ]
  },
  {
   "cell_type": "code",
   "execution_count": 27,
   "id": "283a5f40-6bfb-4c74-a7db-b47765a1a072",
   "metadata": {},
   "outputs": [
    {
     "name": "stdin",
     "output_type": "stream",
     "text": [
      "Enter the quantity for mouse:  10\n",
      "Enter the quantity for keyboard:  20\n",
      "Enter the quantity for charger:  40\n",
      "Enter the quantity for laptop:  50\n"
     ]
    },
    {
     "name": "stdout",
     "output_type": "stream",
     "text": [
      "Updated Inventory: {'apples': 3, 'oranges': 5, 'bananas': 7, 'mouse': 10, 'keyboard': 20, 'charger': 40, 'laptop': 50}\n"
     ]
    }
   ],
   "source": [
    "customer_orders = {'mouse', 'keyboard', 'charger', 'laptop'}\n",
    "inventory = {'apples': 3, 'oranges': 5, 'bananas': 7}\n",
    "\n",
    "updated_inventory = update_inventory(customer_orders, inventory)\n",
    "print(\"Updated Inventory:\", updated_inventory)"
   ]
  },
  {
   "cell_type": "code",
   "execution_count": 54,
   "id": "e7fb14b3-9f95-45d7-a253-a65831e01213",
   "metadata": {},
   "outputs": [],
   "source": [
    "# 4. Define a function named calculate_order_statistics that takes customer_orders and products as parameters. Inside the function, implement the code for calculating the order statistics (total products ordered, and percentage of unique products ordered). The function should return these values.\n",
    "def calculate_order_statistics(customer_orders, products):\n",
    "   \n",
    "    total_products_ordered = len(customer_orders)\n",
    "    percentage_unique_ordered = (total_products_ordered / len(products)) * 100\n",
    "\n",
    "    return total_products_ordered, percentage_unique_ordered"
   ]
  },
  {
   "cell_type": "code",
   "execution_count": 56,
   "id": "578d5d97-3fba-4a48-acfd-21f4ffeabdf2",
   "metadata": {},
   "outputs": [
    {
     "name": "stdout",
     "output_type": "stream",
     "text": [
      "Total unique products ordered: 4\n",
      "Percentage of unique products ordered: 57.14285714285714 %\n"
     ]
    }
   ],
   "source": [
    "customer_orders = {'mouse', 'keyboard', 'charger', 'laptop'}\n",
    "products = {\"apples\", \"oranges\", \"bananas\", \"mouse\", \"keyboard\", \"charger\", \"laptop\"}\n",
    "\n",
    "total_products_ordered, percentage_unique_ordered = calculate_order_statistics(customer_orders, products)\n",
    "\n",
    "print(f\"Total unique products ordered: {total_products_ordered}\")\n",
    "print(f\"Percentage of unique products ordered: {percentage_unique_ordered} %\")"
   ]
  },
  {
   "cell_type": "code",
   "execution_count": 58,
   "id": "15011abc-4a08-490a-be20-6a7c58ae3180",
   "metadata": {},
   "outputs": [
    {
     "ename": "SyntaxError",
     "evalue": "expected ':' (2082922534.py, line 3)",
     "output_type": "error",
     "traceback": [
      "\u001b[1;36m  Cell \u001b[1;32mIn[58], line 3\u001b[1;36m\u001b[0m\n\u001b[1;33m    def print_order_statistics(order_statistics)\u001b[0m\n\u001b[1;37m                                                ^\u001b[0m\n\u001b[1;31mSyntaxError\u001b[0m\u001b[1;31m:\u001b[0m expected ':'\n"
     ]
    }
   ],
   "source": [
    "# Define a function named print_order_statistics that takes order_statistics as a parameter. Inside the function, implement the code for printing the order statistics.\n",
    "\n",
    "def print_order_statistics(order_statistics)"
   ]
  },
  {
   "cell_type": "code",
   "execution_count": null,
   "id": "9d87040a-4740-4b68-8620-dcde394a6e86",
   "metadata": {},
   "outputs": [],
   "source": []
  }
 ],
 "metadata": {
  "kernelspec": {
   "display_name": "Python [conda env:base] *",
   "language": "python",
   "name": "conda-base-py"
  },
  "language_info": {
   "codemirror_mode": {
    "name": "ipython",
    "version": 3
   },
   "file_extension": ".py",
   "mimetype": "text/x-python",
   "name": "python",
   "nbconvert_exporter": "python",
   "pygments_lexer": "ipython3",
   "version": "3.12.7"
  }
 },
 "nbformat": 4,
 "nbformat_minor": 5
}
